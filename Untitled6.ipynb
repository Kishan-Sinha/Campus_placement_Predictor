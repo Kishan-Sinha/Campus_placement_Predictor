{
 "cells": [
  {
   "cell_type": "code",
   "execution_count": 1,
   "id": "650d3c0b-ccd5-4a84-b35f-03cd45a6c3ce",
   "metadata": {},
   "outputs": [
    {
     "name": "stdout",
     "output_type": "stream",
     "text": [
      "rishav bc\n"
     ]
    }
   ],
   "source": [
    "print('rishav bc')"
   ]
  },
  {
   "cell_type": "code",
   "execution_count": 2,
   "id": "2cef82b9-6bf3-4aa7-bba6-4d1c75cdcc99",
   "metadata": {},
   "outputs": [
    {
     "name": "stdout",
     "output_type": "stream",
     "text": [
      "rishav bsdwala\n"
     ]
    }
   ],
   "source": [
    "print('rishav bsdwala')"
   ]
  },
  {
   "cell_type": "code",
   "execution_count": null,
   "id": "8207067a-a631-4e88-bfe0-e4e4b3a4c14d",
   "metadata": {},
   "outputs": [],
   "source": []
  }
 ],
 "metadata": {
  "kernelspec": {
   "display_name": "Python 3 (ipykernel)",
   "language": "python",
   "name": "python3"
  },
  "language_info": {
   "codemirror_mode": {
    "name": "ipython",
    "version": 3
   },
   "file_extension": ".py",
   "mimetype": "text/x-python",
   "name": "python",
   "nbconvert_exporter": "python",
   "pygments_lexer": "ipython3",
   "version": "3.12.2"
  }
 },
 "nbformat": 4,
 "nbformat_minor": 5
}
